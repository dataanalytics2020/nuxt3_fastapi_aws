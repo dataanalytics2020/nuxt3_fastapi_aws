{
 "cells": [
  {
   "cell_type": "code",
   "execution_count": 1,
   "metadata": {},
   "outputs": [
    {
     "data": {
      "text/plain": [
       "True"
      ]
     },
     "execution_count": 1,
     "metadata": {},
     "output_type": "execute_result"
    }
   ],
   "source": [
    "\n",
    "import time\n",
    "import pandas as pd\n",
    "import re\n",
    "\n",
    "import requests\n",
    "import json\n",
    "\n",
    "import mysql\n",
    "import mysql.connector\n",
    "import os\n",
    "\n",
    "import datetime\n",
    "import unicodedata\n",
    "\n",
    "from dotenv import load_dotenv\n",
    "load_dotenv(\".env\")"
   ]
  },
  {
   "cell_type": "code",
   "execution_count": null,
   "metadata": {},
   "outputs": [],
   "source": [
    "\n",
    "def get_cursor():\n",
    "    # MySQLに接続\n",
    "    conn = mysql.connector.connect(\n",
    "        host=os.environ.get(\"AWS_SLOMAP_RDS_HOST\"),\n",
    "        user=os.environ.get(\"AWS_SLOMAP_RDS_USER\"),\n",
    "        password=os.environ.get(\"AWS_SLOMAP_RDS_PASSWORD\"),\n",
    "        database=os.environ.get(\"AWS_SLOMAP_RDS_DATABASE\"),\n",
    "    )\n",
    "    return conn\n",
    "\n",
    "conn = get_cursor()\n",
    "# カーソルを取得\n",
    "cursor = conn.cursor()\n"
   ]
  }
 ],
 "metadata": {
  "kernelspec": {
   "display_name": ".venv",
   "language": "python",
   "name": "python3"
  },
  "language_info": {
   "codemirror_mode": {
    "name": "ipython",
    "version": 3
   },
   "file_extension": ".py",
   "mimetype": "text/x-python",
   "name": "python",
   "nbconvert_exporter": "python",
   "pygments_lexer": "ipython3",
   "version": "3.9.13"
  }
 },
 "nbformat": 4,
 "nbformat_minor": 2
}
